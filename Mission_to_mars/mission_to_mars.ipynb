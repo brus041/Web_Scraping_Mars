{
 "cells": [
  {
   "cell_type": "code",
   "execution_count": 48,
   "source": [
    "\n",
    "import requests\n",
    "import os\n",
    "import pymongo\n",
    "import pandas as pd \n",
    "from bs4 import BeautifulSoup\n",
    "from splinter import Browser\n",
    "from webdriver_manager.chrome import ChromeDriverManager\n"
   ],
   "outputs": [],
   "metadata": {}
  },
  {
   "cell_type": "code",
   "execution_count": null,
   "source": [
    "# *****************************************Part 1*****************************************"
   ],
   "outputs": [],
   "metadata": {}
  },
  {
   "cell_type": "code",
   "execution_count": 4,
   "source": [
    "conn = 'mongodb://localhost:27017'\n",
    "client = pymongo.MongoClient(conn)"
   ],
   "outputs": [],
   "metadata": {}
  },
  {
   "cell_type": "code",
   "execution_count": 27,
   "source": [
    "filepath = os.path.join(\"mars1.html\")\n",
    "with open(filepath, encoding='utf-8') as file:\n",
    "    html = file.read()\n",
    "soup = BeautifulSoup(html, 'html.parser')"
   ],
   "outputs": [],
   "metadata": {}
  },
  {
   "cell_type": "code",
   "execution_count": 39,
   "source": [
    "# soup"
   ],
   "outputs": [],
   "metadata": {}
  },
  {
   "cell_type": "code",
   "execution_count": 148,
   "source": [
    "# <div class=\"content_title\">NASA to Broadcast Mars 2020 Perseverance Launch, Prelaunch Activities</div>\n",
    "# <div class=\"article_teaser_body\">Starting July 27, news activities will cover everything from mission engineering and \n",
    "results_titles = soup.find_all('div', class_='content_title')\n",
    "results_paragraphs = soup.find_all('div', class_='article_teaser_body')\n",
    "title = str(results_titles[0].text)\n",
    "paragraph = str(results_paragraphs[0].text)\n",
    "print('Latest News is:')\n",
    "print(title)\n",
    "print(paragraph)"
   ],
   "outputs": [
    {
     "output_type": "stream",
     "name": "stdout",
     "text": [
      "Latest News is:\n",
      "<div class=\"content_title\">NASA to Broadcast Mars 2020 Perseverance Launch, Prelaunch Activities</div>\n",
      "Starting July 27, news activities will cover everything from mission engineering and science to returning samples from Mars to, of course, the launch itself.\n"
     ]
    }
   ],
   "metadata": {}
  },
  {
   "cell_type": "code",
   "execution_count": null,
   "source": [
    "# *****************************************Part 2*****************************************"
   ],
   "outputs": [],
   "metadata": {}
  },
  {
   "cell_type": "code",
   "execution_count": 76,
   "source": [
    "executable_path = {'executable_path': ChromeDriverManager().install()}\n",
    "browser = Browser('chrome', **executable_path, headless=False)\n",
    "url = 'https://spaceimages-mars.com'\n",
    "browser.visit(url)"
   ],
   "outputs": [
    {
     "output_type": "stream",
     "name": "stderr",
     "text": [
      "[WDM] - \n",
      "\n",
      "[WDM] - ====== WebDriver manager ======\n",
      "[WDM] - Current google-chrome version is 95.0.4638\n",
      "[WDM] - Get LATEST driver version for 95.0.4638\n",
      "[WDM] - Get LATEST driver version for 95.0.4638\n",
      "[WDM] - Trying to download new driver from https://chromedriver.storage.googleapis.com/95.0.4638.54/chromedriver_mac64.zip\n",
      "[WDM] - Driver has been saved in cache [/Users/borisrubel/.wdm/drivers/chromedriver/mac64/95.0.4638.54]\n"
     ]
    }
   ],
   "metadata": {}
  },
  {
   "cell_type": "code",
   "execution_count": 94,
   "source": [
    "html = browser.html\n",
    "soup0 = BeautifulSoup(html, 'html.parser')\n",
    "results0 = soup0.find_all('img')\n",
    "featured_image_url = url + '/' +results0[1]['src']\n",
    "# https://spaceimages-mars.com/image/featured/mars2.jpg\n",
    "print(featured_image_url)"
   ],
   "outputs": [
    {
     "output_type": "stream",
     "name": "stdout",
     "text": [
      "https://spaceimages-mars.com/image/featured/mars2.jpg\n"
     ]
    }
   ],
   "metadata": {}
  },
  {
   "cell_type": "code",
   "execution_count": null,
   "source": [
    "# *****************************************Part 3*****************************************"
   ],
   "outputs": [],
   "metadata": {}
  },
  {
   "cell_type": "code",
   "execution_count": 73,
   "source": [
    "url = \"https://galaxyfacts-mars.com\"\n",
    "tables = pd.read_html(url)\n",
    "mars_earth_table = pd.DataFrame(tables[0][1:])\n",
    "rm = mars_earth_table.rename(columns = {1:'Mars',2:'Earth'}, index = mars_earth_table[0])\n",
    "final_table = rm.drop(columns = [0])\n",
    "final_table\n"
   ],
   "outputs": [
    {
     "output_type": "execute_result",
     "data": {
      "text/plain": [
       "                               Mars            Earth\n",
       "Diameter:                  6,779 km        12,742 km\n",
       "Mass:               6.39 × 10^23 kg  5.97 × 10^24 kg\n",
       "Moons:                            2                1\n",
       "Distance from Sun:   227,943,824 km   149,598,262 km\n",
       "Length of Year:      687 Earth days      365.24 days\n",
       "Temperature:           -87 to -5 °C      -88 to 58°C"
      ],
      "text/html": [
       "<div>\n",
       "<style scoped>\n",
       "    .dataframe tbody tr th:only-of-type {\n",
       "        vertical-align: middle;\n",
       "    }\n",
       "\n",
       "    .dataframe tbody tr th {\n",
       "        vertical-align: top;\n",
       "    }\n",
       "\n",
       "    .dataframe thead th {\n",
       "        text-align: right;\n",
       "    }\n",
       "</style>\n",
       "<table border=\"1\" class=\"dataframe\">\n",
       "  <thead>\n",
       "    <tr style=\"text-align: right;\">\n",
       "      <th></th>\n",
       "      <th>Mars</th>\n",
       "      <th>Earth</th>\n",
       "    </tr>\n",
       "  </thead>\n",
       "  <tbody>\n",
       "    <tr>\n",
       "      <th>Diameter:</th>\n",
       "      <td>6,779 km</td>\n",
       "      <td>12,742 km</td>\n",
       "    </tr>\n",
       "    <tr>\n",
       "      <th>Mass:</th>\n",
       "      <td>6.39 × 10^23 kg</td>\n",
       "      <td>5.97 × 10^24 kg</td>\n",
       "    </tr>\n",
       "    <tr>\n",
       "      <th>Moons:</th>\n",
       "      <td>2</td>\n",
       "      <td>1</td>\n",
       "    </tr>\n",
       "    <tr>\n",
       "      <th>Distance from Sun:</th>\n",
       "      <td>227,943,824 km</td>\n",
       "      <td>149,598,262 km</td>\n",
       "    </tr>\n",
       "    <tr>\n",
       "      <th>Length of Year:</th>\n",
       "      <td>687 Earth days</td>\n",
       "      <td>365.24 days</td>\n",
       "    </tr>\n",
       "    <tr>\n",
       "      <th>Temperature:</th>\n",
       "      <td>-87 to -5 °C</td>\n",
       "      <td>-88 to 58°C</td>\n",
       "    </tr>\n",
       "  </tbody>\n",
       "</table>\n",
       "</div>"
      ]
     },
     "metadata": {},
     "execution_count": 73
    }
   ],
   "metadata": {}
  },
  {
   "cell_type": "code",
   "execution_count": null,
   "source": [
    "# *****************************************Part 4*****************************************"
   ],
   "outputs": [],
   "metadata": {}
  },
  {
   "cell_type": "code",
   "execution_count": 146,
   "source": [
    "executable_path = {'executable_path': ChromeDriverManager().install()}\n",
    "browser = Browser('chrome', **executable_path, headless=False)\n",
    "base_url = \"https://marshemispheres.com\"\n",
    "# browser.visit(url)\n",
    "image_urls = [\n",
    "    'https://marshemispheres.com/cerberus.html',\n",
    "    'https://marshemispheres.com/schiaparelli.html',\n",
    "    'https://marshemispheres.com/syrtis.html',\n",
    "    'https://marshemispheres.com/valles.html']\n",
    "\n",
    "# create the list of dictionaries containing image information\n",
    "hemisphere_image_urls = []\n",
    "for url in image_urls:\n",
    "    browser.visit(url)\n",
    "    html = browser.html\n",
    "    sp = BeautifulSoup(html, 'html.parser')\n",
    "    #get the enhanced image url\n",
    "    description = sp.findAll('div', class_ = 'description')\n",
    "    enhanced_url = description[0].find_all('dd')[1].find('a')['href']\n",
    "    \n",
    "    #get the titles \n",
    "    title = sp.findAll('h2',class_ = \"title\")\n",
    "    enh_title = title[0].text.split()[:-1]\n",
    "    t = \" \".join(enh_title)\n",
    "\n",
    "    #create dictionary element for dictionary list\n",
    "    dt = {'Title':t,\"Image Url\":base_url+'/'+enhanced_url}\n",
    "    hemisphere_image_urls.append(dt)\n",
    "\n",
    "hemisphere_image_urls \n"
   ],
   "outputs": [
    {
     "output_type": "stream",
     "name": "stderr",
     "text": [
      "[WDM] - \n",
      "\n",
      "[WDM] - ====== WebDriver manager ======\n",
      "[WDM] - Current google-chrome version is 95.0.4638\n",
      "[WDM] - Get LATEST driver version for 95.0.4638\n",
      "[WDM] - Driver [/Users/borisrubel/.wdm/drivers/chromedriver/mac64/95.0.4638.54/chromedriver] found in cache\n"
     ]
    },
    {
     "output_type": "execute_result",
     "data": {
      "text/plain": [
       "[{'Title': 'Cerberus Hemisphere',\n",
       "  'Image Url': 'https://marshemispheres.com/images/cerberus_enhanced.tif'},\n",
       " {'Title': 'Schiaparelli Hemisphere',\n",
       "  'Image Url': 'https://marshemispheres.com/images/schiaparelli_enhanced.tif'},\n",
       " {'Title': 'Syrtis Major Hemisphere',\n",
       "  'Image Url': 'https://marshemispheres.com/images/syrtis_major_enhanced.tif'},\n",
       " {'Title': 'Valles Marineris Hemisphere',\n",
       "  'Image Url': 'https://marshemispheres.com/images/valles_marineris_enhanced.tif'}]"
      ]
     },
     "metadata": {},
     "execution_count": 146
    }
   ],
   "metadata": {}
  },
  {
   "cell_type": "code",
   "execution_count": 143,
   "source": [
    "\n"
   ],
   "outputs": [
    {
     "output_type": "execute_result",
     "data": {
      "text/plain": [
       "'Valles Marineris Hemisphere'"
      ]
     },
     "metadata": {},
     "execution_count": 143
    }
   ],
   "metadata": {}
  }
 ],
 "metadata": {
  "orig_nbformat": 4,
  "language_info": {
   "name": "python",
   "version": "3.6.10",
   "mimetype": "text/x-python",
   "codemirror_mode": {
    "name": "ipython",
    "version": 3
   },
   "pygments_lexer": "ipython3",
   "nbconvert_exporter": "python",
   "file_extension": ".py"
  },
  "kernelspec": {
   "name": "python3",
   "display_name": "Python 3.6.10 64-bit ('venv': conda)"
  },
  "interpreter": {
   "hash": "3f6acd4545d008d74b1bc56e0920897854c77ecf9e874c3b3700a6e370b33431"
  }
 },
 "nbformat": 4,
 "nbformat_minor": 2
}